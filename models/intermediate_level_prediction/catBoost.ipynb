{
 "cells": [
  {
   "cell_type": "code",
   "execution_count": null,
   "id": "d5c50386",
   "metadata": {},
   "outputs": [
    {
     "name": "stdout",
     "output_type": "stream",
     "text": [
      "--- CatBoost Regressor Baseline Performance ---\n",
      "Mean Absolute Error (MAE): 33.56\n",
      "Mean Squared Error (MSE): 3475.59\n",
      "Root Mean Squared Error (RMSE): 58.95\n",
      "R-squared (R²): 0.8248\n"
     ]
    }
   ],
   "source": [
    "import catboost as cb\n",
    "import pandas as pd\n",
    "from sklearn.model_selection import train_test_split, RandomizedSearchCV\n",
    "from sklearn.metrics import r2_score, mean_absolute_error, mean_squared_error, root_mean_squared_error\n",
    "\n",
    "# Load the data and create engineered features (same as your notebook)\n",
    "df = pd.read_csv('../../data/data.csv')\n",
    "df[[\"observation_date\", \"date_of_introduction\"]] = df[[\"observation_date\", \"date_of_introduction\"]].apply(\n",
    "    pd.to_datetime\n",
    ")\n",
    "df['days_since_introduction'] = (df['observation_date'] - df['date_of_introduction']).dt.days\n",
    "df['initial_growth_potential'] = df['initial_female_count'] * df['leaf_area_cm2']\n",
    "\n",
    "# Define features and target\n",
    "features = [\n",
    "    'initial_female_count',\n",
    "    'leaf_area_cm2',\n",
    "    'population_density',\n",
    "    'days_since_introduction',\n",
    "    'initial_growth_potential'\n",
    "]\n",
    "target = 'cumulative_mite_count'\n",
    "\n",
    "X = df[features]\n",
    "y = df[target]\n",
    "\n",
    "# Split data (using the same random_state for a fair comparison)\n",
    "X_train, X_test, y_train, y_test = train_test_split(X, y, test_size=0.2, random_state=42)\n",
    "\n",
    "# --- Create and Train the Baseline CatBoost Model ---\n",
    "# Use verbose=0 to avoid printing training progress for each iteration\n",
    "cat_model = cb.CatBoostRegressor(random_state=42, verbose=0)\n",
    "cat_model.fit(X_train, y_train)\n",
    "\n",
    "# --- Make Predictions and Evaluate ---\n",
    "y_pred_cat = cat_model.predict(X_test)\n",
    "r2_cat = r2_score(y_test, y_pred_cat)\n",
    "mae_cat = mean_absolute_error(y_test, y_pred_cat)\n",
    "mse_cat = mean_squared_error(y_test, y_pred_cat)\n",
    "rmse_cat = root_mean_squared_error(y_test, y_pred_cat)\n",
    "\n",
    "print(\"--- CatBoost Regressor Baseline Performance ---\")\n",
    "print(f\"Mean Absolute Error (MAE): {mae_cat:.2f}\")\n",
    "print(f\"Mean Squared Error (MSE): {mse_cat:.2f}\")\n",
    "print(f\"Root Mean Squared Error (RMSE): {rmse_cat:.2f}\")\n",
    "print(f\"R-squared (R²): {r2_cat:.4f}\")"
   ]
  },
  {
   "cell_type": "code",
   "execution_count": 3,
   "id": "8cf12e60",
   "metadata": {},
   "outputs": [
    {
     "name": "stdout",
     "output_type": "stream",
     "text": [
      "Fitting 5 folds for each of 100 candidates, totalling 500 fits\n",
      "Best parameters found for CatBoost:\n",
      "{'subsample': 0.6, 'learning_rate': 0.01, 'iterations': 700, 'depth': 9, 'colsample_bylevel': 1.0}\n",
      "\n",
      "--- Tuned CatBoost Performance ---\n",
      "Mean Absolute Error (MAE): 33.55\n",
      "Mean Squared Error (MSE): 3216.36\n",
      "Root Mean Squared Error (RMSE): 56.71\n",
      "R-squared (R²): 0.8379\n"
     ]
    }
   ],
   "source": [
    "# Define the parameter grid for CatBoost\n",
    "param_grid_cat = {\n",
    "    'iterations': [300, 500, 700, 1000], # n_estimators\n",
    "    'learning_rate': [0.01, 0.05, 0.1],\n",
    "    'depth': [3, 5, 7, 9], # max_depth\n",
    "    'subsample': [0.6, 0.8, 1.0],\n",
    "    'colsample_bylevel': [0.6, 0.8, 1.0] # colsample_bytree\n",
    "}\n",
    "\n",
    "# Randomized search\n",
    "cat_random = RandomizedSearchCV(\n",
    "    estimator=cb.CatBoostRegressor(random_state=42, verbose=0),\n",
    "    param_distributions=param_grid_cat,\n",
    "    n_iter=100,\n",
    "    scoring='r2',\n",
    "    cv=5,\n",
    "    n_jobs=-1,\n",
    "    verbose=2,\n",
    "    random_state=42\n",
    ")\n",
    "\n",
    "# Fit the RandomizedSearchCV\n",
    "cat_random.fit(X_train, y_train)\n",
    "\n",
    "# Get the best model\n",
    "best_cat_model = cat_random.best_estimator_\n",
    "\n",
    "# Print the best parameters\n",
    "print(\"Best parameters found for CatBoost:\")\n",
    "print(cat_random.best_params_)\n",
    "\n",
    "# Evaluate the tuned model\n",
    "y_pred_tuned_cat = best_cat_model.predict(X_test)\n",
    "r2_tuned_cat = r2_score(y_test, y_pred_tuned_cat)\n",
    "mae_tuned_cat = mean_absolute_error(y_test, y_pred_tuned_cat)\n",
    "mse_tuned_cat = mean_squared_error(y_test, y_pred_tuned_cat)\n",
    "rmse_tuned_cat = root_mean_squared_error(y_test, y_pred_tuned_cat)\n",
    "\n",
    "print(\"\\n--- Tuned CatBoost Performance ---\")\n",
    "print(f\"Mean Absolute Error (MAE): {mae_tuned_cat:.2f}\")\n",
    "print(f\"Mean Squared Error (MSE): {mse_tuned_cat:.2f}\")\n",
    "print(f\"Root Mean Squared Error (RMSE): {rmse_tuned_cat:.2f}\")\n",
    "print(f\"R-squared (R²): {r2_tuned_cat:.4f}\")"
   ]
  }
 ],
 "metadata": {
  "kernelspec": {
   "display_name": ".venv",
   "language": "python",
   "name": "python3"
  },
  "language_info": {
   "codemirror_mode": {
    "name": "ipython",
    "version": 3
   },
   "file_extension": ".py",
   "mimetype": "text/x-python",
   "name": "python",
   "nbconvert_exporter": "python",
   "pygments_lexer": "ipython3",
   "version": "3.12.0"
  }
 },
 "nbformat": 4,
 "nbformat_minor": 5
}
