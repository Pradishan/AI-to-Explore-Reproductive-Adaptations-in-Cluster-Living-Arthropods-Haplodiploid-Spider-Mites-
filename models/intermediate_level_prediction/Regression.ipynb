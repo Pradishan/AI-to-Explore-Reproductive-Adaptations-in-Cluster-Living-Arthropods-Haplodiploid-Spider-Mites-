{
 "cells": [
  {
   "cell_type": "code",
   "execution_count": 1,
   "id": "ab66e898",
   "metadata": {},
   "outputs": [],
   "source": [
    "import pandas as pd\n",
    "from sklearn.model_selection import train_test_split\n",
    "from sklearn.linear_model import LinearRegression\n",
    "from sklearn.metrics import mean_absolute_error, mean_squared_error, r2_score ,root_mean_squared_error\n",
    "import warnings\n",
    "warnings.filterwarnings('ignore')"
   ]
  },
  {
   "cell_type": "code",
   "execution_count": 2,
   "id": "eddb7f24",
   "metadata": {},
   "outputs": [
    {
     "data": {
      "application/vnd.microsoft.datawrangler.viewer.v0+json": {
       "columns": [
        {
         "name": "index",
         "rawType": "int64",
         "type": "integer"
        },
        {
         "name": "treatment_id",
         "rawType": "object",
         "type": "string"
        },
        {
         "name": "date_of_introduction",
         "rawType": "object",
         "type": "string"
        },
        {
         "name": "observation_date",
         "rawType": "object",
         "type": "string"
        },
        {
         "name": "initial_female_count",
         "rawType": "int64",
         "type": "integer"
        },
        {
         "name": "leaf_area_cm2",
         "rawType": "float64",
         "type": "float"
        },
        {
         "name": "population_density",
         "rawType": "float64",
         "type": "float"
        },
        {
         "name": "replicate_id",
         "rawType": "int64",
         "type": "integer"
        },
        {
         "name": "cumulative_mite_count",
         "rawType": "int64",
         "type": "integer"
        },
        {
         "name": "number_of_eggs",
         "rawType": "int64",
         "type": "integer"
        },
        {
         "name": "no_of_eggs_hatched",
         "rawType": "int64",
         "type": "integer"
        },
        {
         "name": "male_count",
         "rawType": "int64",
         "type": "integer"
        },
        {
         "name": "female_count",
         "rawType": "int64",
         "type": "integer"
        }
       ],
       "ref": "d345d43c-08a2-4992-bf39-2b1906ced468",
       "rows": [
        [
         "0",
         "T1R1",
         "7/31/2019",
         "8/1/2019",
         "1",
         "0.5",
         "2.0",
         "1",
         "0",
         "0",
         "0",
         "0",
         "0"
        ],
        [
         "1",
         "T1R1",
         "7/31/2019",
         "8/2/2019",
         "1",
         "0.5",
         "2.0",
         "1",
         "0",
         "0",
         "0",
         "0",
         "0"
        ],
        [
         "2",
         "T1R1",
         "7/31/2019",
         "8/3/2019",
         "1",
         "0.5",
         "2.0",
         "1",
         "2",
         "3",
         "2",
         "0",
         "2"
        ],
        [
         "3",
         "T1R1",
         "7/31/2019",
         "8/4/2019",
         "1",
         "0.5",
         "2.0",
         "1",
         "6",
         "4",
         "4",
         "0",
         "4"
        ],
        [
         "4",
         "T1R1",
         "7/31/2019",
         "8/5/2019",
         "1",
         "0.5",
         "2.0",
         "1",
         "9",
         "4",
         "3",
         "0",
         "3"
        ]
       ],
       "shape": {
        "columns": 12,
        "rows": 5
       }
      },
      "text/html": [
       "<div>\n",
       "<style scoped>\n",
       "    .dataframe tbody tr th:only-of-type {\n",
       "        vertical-align: middle;\n",
       "    }\n",
       "\n",
       "    .dataframe tbody tr th {\n",
       "        vertical-align: top;\n",
       "    }\n",
       "\n",
       "    .dataframe thead th {\n",
       "        text-align: right;\n",
       "    }\n",
       "</style>\n",
       "<table border=\"1\" class=\"dataframe\">\n",
       "  <thead>\n",
       "    <tr style=\"text-align: right;\">\n",
       "      <th></th>\n",
       "      <th>treatment_id</th>\n",
       "      <th>date_of_introduction</th>\n",
       "      <th>observation_date</th>\n",
       "      <th>initial_female_count</th>\n",
       "      <th>leaf_area_cm2</th>\n",
       "      <th>population_density</th>\n",
       "      <th>replicate_id</th>\n",
       "      <th>cumulative_mite_count</th>\n",
       "      <th>number_of_eggs</th>\n",
       "      <th>no_of_eggs_hatched</th>\n",
       "      <th>male_count</th>\n",
       "      <th>female_count</th>\n",
       "    </tr>\n",
       "  </thead>\n",
       "  <tbody>\n",
       "    <tr>\n",
       "      <th>0</th>\n",
       "      <td>T1R1</td>\n",
       "      <td>7/31/2019</td>\n",
       "      <td>8/1/2019</td>\n",
       "      <td>1</td>\n",
       "      <td>0.5</td>\n",
       "      <td>2.0</td>\n",
       "      <td>1</td>\n",
       "      <td>0</td>\n",
       "      <td>0</td>\n",
       "      <td>0</td>\n",
       "      <td>0</td>\n",
       "      <td>0</td>\n",
       "    </tr>\n",
       "    <tr>\n",
       "      <th>1</th>\n",
       "      <td>T1R1</td>\n",
       "      <td>7/31/2019</td>\n",
       "      <td>8/2/2019</td>\n",
       "      <td>1</td>\n",
       "      <td>0.5</td>\n",
       "      <td>2.0</td>\n",
       "      <td>1</td>\n",
       "      <td>0</td>\n",
       "      <td>0</td>\n",
       "      <td>0</td>\n",
       "      <td>0</td>\n",
       "      <td>0</td>\n",
       "    </tr>\n",
       "    <tr>\n",
       "      <th>2</th>\n",
       "      <td>T1R1</td>\n",
       "      <td>7/31/2019</td>\n",
       "      <td>8/3/2019</td>\n",
       "      <td>1</td>\n",
       "      <td>0.5</td>\n",
       "      <td>2.0</td>\n",
       "      <td>1</td>\n",
       "      <td>2</td>\n",
       "      <td>3</td>\n",
       "      <td>2</td>\n",
       "      <td>0</td>\n",
       "      <td>2</td>\n",
       "    </tr>\n",
       "    <tr>\n",
       "      <th>3</th>\n",
       "      <td>T1R1</td>\n",
       "      <td>7/31/2019</td>\n",
       "      <td>8/4/2019</td>\n",
       "      <td>1</td>\n",
       "      <td>0.5</td>\n",
       "      <td>2.0</td>\n",
       "      <td>1</td>\n",
       "      <td>6</td>\n",
       "      <td>4</td>\n",
       "      <td>4</td>\n",
       "      <td>0</td>\n",
       "      <td>4</td>\n",
       "    </tr>\n",
       "    <tr>\n",
       "      <th>4</th>\n",
       "      <td>T1R1</td>\n",
       "      <td>7/31/2019</td>\n",
       "      <td>8/5/2019</td>\n",
       "      <td>1</td>\n",
       "      <td>0.5</td>\n",
       "      <td>2.0</td>\n",
       "      <td>1</td>\n",
       "      <td>9</td>\n",
       "      <td>4</td>\n",
       "      <td>3</td>\n",
       "      <td>0</td>\n",
       "      <td>3</td>\n",
       "    </tr>\n",
       "  </tbody>\n",
       "</table>\n",
       "</div>"
      ],
      "text/plain": [
       "  treatment_id date_of_introduction observation_date  initial_female_count  \\\n",
       "0         T1R1            7/31/2019         8/1/2019                     1   \n",
       "1         T1R1            7/31/2019         8/2/2019                     1   \n",
       "2         T1R1            7/31/2019         8/3/2019                     1   \n",
       "3         T1R1            7/31/2019         8/4/2019                     1   \n",
       "4         T1R1            7/31/2019         8/5/2019                     1   \n",
       "\n",
       "   leaf_area_cm2  population_density  replicate_id  cumulative_mite_count  \\\n",
       "0            0.5                 2.0             1                      0   \n",
       "1            0.5                 2.0             1                      0   \n",
       "2            0.5                 2.0             1                      2   \n",
       "3            0.5                 2.0             1                      6   \n",
       "4            0.5                 2.0             1                      9   \n",
       "\n",
       "   number_of_eggs  no_of_eggs_hatched  male_count  female_count  \n",
       "0               0                   0           0             0  \n",
       "1               0                   0           0             0  \n",
       "2               3                   2           0             2  \n",
       "3               4                   4           0             4  \n",
       "4               4                   3           0             3  "
      ]
     },
     "execution_count": 2,
     "metadata": {},
     "output_type": "execute_result"
    }
   ],
   "source": [
    "# Load the dataset\n",
    "df = pd.read_csv('../../data/data.csv')\n",
    "df.head()"
   ]
  },
  {
   "cell_type": "code",
   "execution_count": 3,
   "id": "6074b7f2",
   "metadata": {},
   "outputs": [
    {
     "data": {
      "application/vnd.microsoft.datawrangler.viewer.v0+json": {
       "columns": [
        {
         "name": "index",
         "rawType": "int64",
         "type": "integer"
        },
        {
         "name": "date_of_introduction",
         "rawType": "datetime64[ns]",
         "type": "datetime"
        },
        {
         "name": "observation_date",
         "rawType": "datetime64[ns]",
         "type": "datetime"
        },
        {
         "name": "initial_female_count",
         "rawType": "int64",
         "type": "integer"
        },
        {
         "name": "leaf_area_cm2",
         "rawType": "float64",
         "type": "float"
        },
        {
         "name": "population_density",
         "rawType": "float64",
         "type": "float"
        },
        {
         "name": "cumulative_mite_count",
         "rawType": "int64",
         "type": "integer"
        },
        {
         "name": "number_of_eggs",
         "rawType": "int64",
         "type": "integer"
        },
        {
         "name": "no_of_eggs_hatched",
         "rawType": "int64",
         "type": "integer"
        },
        {
         "name": "male_count",
         "rawType": "int64",
         "type": "integer"
        },
        {
         "name": "female_count",
         "rawType": "int64",
         "type": "integer"
        }
       ],
       "ref": "aa065c93-1162-4456-a100-f208842105bb",
       "rows": [
        [
         "0",
         "2019-07-31 00:00:00",
         "2019-08-01 00:00:00",
         "1",
         "0.5",
         "2.0",
         "0",
         "0",
         "0",
         "0",
         "0"
        ],
        [
         "1",
         "2019-07-31 00:00:00",
         "2019-08-02 00:00:00",
         "1",
         "0.5",
         "2.0",
         "0",
         "0",
         "0",
         "0",
         "0"
        ],
        [
         "2",
         "2019-07-31 00:00:00",
         "2019-08-03 00:00:00",
         "1",
         "0.5",
         "2.0",
         "2",
         "3",
         "2",
         "0",
         "2"
        ],
        [
         "3",
         "2019-07-31 00:00:00",
         "2019-08-04 00:00:00",
         "1",
         "0.5",
         "2.0",
         "6",
         "4",
         "4",
         "0",
         "4"
        ],
        [
         "4",
         "2019-07-31 00:00:00",
         "2019-08-05 00:00:00",
         "1",
         "0.5",
         "2.0",
         "9",
         "4",
         "3",
         "0",
         "3"
        ]
       ],
       "shape": {
        "columns": 10,
        "rows": 5
       }
      },
      "text/html": [
       "<div>\n",
       "<style scoped>\n",
       "    .dataframe tbody tr th:only-of-type {\n",
       "        vertical-align: middle;\n",
       "    }\n",
       "\n",
       "    .dataframe tbody tr th {\n",
       "        vertical-align: top;\n",
       "    }\n",
       "\n",
       "    .dataframe thead th {\n",
       "        text-align: right;\n",
       "    }\n",
       "</style>\n",
       "<table border=\"1\" class=\"dataframe\">\n",
       "  <thead>\n",
       "    <tr style=\"text-align: right;\">\n",
       "      <th></th>\n",
       "      <th>date_of_introduction</th>\n",
       "      <th>observation_date</th>\n",
       "      <th>initial_female_count</th>\n",
       "      <th>leaf_area_cm2</th>\n",
       "      <th>population_density</th>\n",
       "      <th>cumulative_mite_count</th>\n",
       "      <th>number_of_eggs</th>\n",
       "      <th>no_of_eggs_hatched</th>\n",
       "      <th>male_count</th>\n",
       "      <th>female_count</th>\n",
       "    </tr>\n",
       "  </thead>\n",
       "  <tbody>\n",
       "    <tr>\n",
       "      <th>0</th>\n",
       "      <td>2019-07-31</td>\n",
       "      <td>2019-08-01</td>\n",
       "      <td>1</td>\n",
       "      <td>0.5</td>\n",
       "      <td>2.0</td>\n",
       "      <td>0</td>\n",
       "      <td>0</td>\n",
       "      <td>0</td>\n",
       "      <td>0</td>\n",
       "      <td>0</td>\n",
       "    </tr>\n",
       "    <tr>\n",
       "      <th>1</th>\n",
       "      <td>2019-07-31</td>\n",
       "      <td>2019-08-02</td>\n",
       "      <td>1</td>\n",
       "      <td>0.5</td>\n",
       "      <td>2.0</td>\n",
       "      <td>0</td>\n",
       "      <td>0</td>\n",
       "      <td>0</td>\n",
       "      <td>0</td>\n",
       "      <td>0</td>\n",
       "    </tr>\n",
       "    <tr>\n",
       "      <th>2</th>\n",
       "      <td>2019-07-31</td>\n",
       "      <td>2019-08-03</td>\n",
       "      <td>1</td>\n",
       "      <td>0.5</td>\n",
       "      <td>2.0</td>\n",
       "      <td>2</td>\n",
       "      <td>3</td>\n",
       "      <td>2</td>\n",
       "      <td>0</td>\n",
       "      <td>2</td>\n",
       "    </tr>\n",
       "    <tr>\n",
       "      <th>3</th>\n",
       "      <td>2019-07-31</td>\n",
       "      <td>2019-08-04</td>\n",
       "      <td>1</td>\n",
       "      <td>0.5</td>\n",
       "      <td>2.0</td>\n",
       "      <td>6</td>\n",
       "      <td>4</td>\n",
       "      <td>4</td>\n",
       "      <td>0</td>\n",
       "      <td>4</td>\n",
       "    </tr>\n",
       "    <tr>\n",
       "      <th>4</th>\n",
       "      <td>2019-07-31</td>\n",
       "      <td>2019-08-05</td>\n",
       "      <td>1</td>\n",
       "      <td>0.5</td>\n",
       "      <td>2.0</td>\n",
       "      <td>9</td>\n",
       "      <td>4</td>\n",
       "      <td>3</td>\n",
       "      <td>0</td>\n",
       "      <td>3</td>\n",
       "    </tr>\n",
       "  </tbody>\n",
       "</table>\n",
       "</div>"
      ],
      "text/plain": [
       "  date_of_introduction observation_date  initial_female_count  leaf_area_cm2  \\\n",
       "0           2019-07-31       2019-08-01                     1            0.5   \n",
       "1           2019-07-31       2019-08-02                     1            0.5   \n",
       "2           2019-07-31       2019-08-03                     1            0.5   \n",
       "3           2019-07-31       2019-08-04                     1            0.5   \n",
       "4           2019-07-31       2019-08-05                     1            0.5   \n",
       "\n",
       "   population_density  cumulative_mite_count  number_of_eggs  \\\n",
       "0                 2.0                      0               0   \n",
       "1                 2.0                      0               0   \n",
       "2                 2.0                      2               3   \n",
       "3                 2.0                      6               4   \n",
       "4                 2.0                      9               4   \n",
       "\n",
       "   no_of_eggs_hatched  male_count  female_count  \n",
       "0                   0           0             0  \n",
       "1                   0           0             0  \n",
       "2                   2           0             2  \n",
       "3                   4           0             4  \n",
       "4                   3           0             3  "
      ]
     },
     "execution_count": 3,
     "metadata": {},
     "output_type": "execute_result"
    }
   ],
   "source": [
    "# Convert date columns to datetime\n",
    "df[[\"observation_date\", \"date_of_introduction\"]] = df[[\"observation_date\", \"date_of_introduction\"]].apply(\n",
    "    pd.to_datetime\n",
    ")\n",
    "# drop columns that are not needed for modeling\n",
    "df.drop(columns=[\"treatment_id\", \"replicate_id\"], inplace=True)\n",
    "df.head()"
   ]
  },
  {
   "cell_type": "code",
   "execution_count": 4,
   "id": "edbed5ec",
   "metadata": {},
   "outputs": [
    {
     "data": {
      "text/plain": [
       "Index(['date_of_introduction', 'observation_date', 'initial_female_count',\n",
       "       'leaf_area_cm2', 'population_density', 'cumulative_mite_count',\n",
       "       'number_of_eggs', 'no_of_eggs_hatched', 'male_count', 'female_count'],\n",
       "      dtype='object')"
      ]
     },
     "execution_count": 4,
     "metadata": {},
     "output_type": "execute_result"
    }
   ],
   "source": [
    "df.columns"
   ]
  },
  {
   "cell_type": "markdown",
   "id": "05c22db3",
   "metadata": {},
   "source": [
    "#### Baseline Linear Regression Model"
   ]
  },
  {
   "cell_type": "code",
   "execution_count": 5,
   "id": "0d03dd3f",
   "metadata": {},
   "outputs": [
    {
     "name": "stdout",
     "output_type": "stream",
     "text": [
      "--- Baseline Linear Regression Model Performance ---\n",
      "Mean Absolute Error (MAE): 79.6681\n",
      "Mean Squared Error (MSE): 11698.4329\n",
      "Root Mean Squared Error (RMSE): 108.1593\n",
      "R-squared (R²): 0.4103\n"
     ]
    }
   ],
   "source": [
    "features = ['initial_female_count','leaf_area_cm2', 'population_density']\n",
    "target = 'cumulative_mite_count'\n",
    "\n",
    "X = df[features]\n",
    "y = df[target]\n",
    "\n",
    "# --- 2. Split Data into Training and Testing Sets ---\n",
    "X_train, X_test, y_train, y_test = train_test_split(X, y, test_size=0.2, random_state=42)\n",
    "\n",
    "# --- 3. Create and Train the Linear Regression Model ---\n",
    "model = LinearRegression()\n",
    "model.fit(X_train, y_train)\n",
    "# --- 4. Make Predictions and Evaluate the Model ---\n",
    "y_pred = model.predict(X_test)\n",
    "\n",
    "mae = mean_absolute_error(y_test, y_pred)\n",
    "mse = mean_squared_error(y_test, y_pred)\n",
    "rmse = root_mean_squared_error(y_test, y_pred)\n",
    "r2 = r2_score(y_test, y_pred)\n",
    "\n",
    "# --- 5. Print the Results ---\n",
    "print(\"--- Baseline Linear Regression Model Performance ---\")\n",
    "print(f\"Mean Absolute Error (MAE): {mae:.4f}\")\n",
    "print(f\"Mean Squared Error (MSE): {mse:.4f}\")\n",
    "print(f\"Root Mean Squared Error (RMSE): {rmse:.4f}\")\n",
    "print(f\"R-squared (R²): {r2:.4f}\")"
   ]
  },
  {
   "cell_type": "markdown",
   "id": "19aac7e2",
   "metadata": {},
   "source": [
    "## Feature Engeneering"
   ]
  },
  {
   "cell_type": "code",
   "execution_count": 6,
   "id": "c3e4254f",
   "metadata": {},
   "outputs": [],
   "source": [
    "# create number of days since introduction feature\n",
    "df['days_since_introduction'] = (df['observation_date'] - df['date_of_introduction']).dt.days\n",
    "\n",
    "# Initial Growth Potential\n",
    "df['initial_growth_potential'] = df['initial_female_count'] * df['leaf_area_cm2']"
   ]
  },
  {
   "cell_type": "markdown",
   "id": "9d14fda9",
   "metadata": {},
   "source": [
    "#### Linear Regression with Feature Engineering"
   ]
  },
  {
   "cell_type": "code",
   "execution_count": 7,
   "id": "f7f8123e",
   "metadata": {},
   "outputs": [
    {
     "name": "stdout",
     "output_type": "stream",
     "text": [
      "--- Feature introdused Linear Regression Model Performance ---\n",
      "Mean Absolute Error (MAE): 59.2000\n",
      "Mean Squared Error (MSE): 6090.8817\n",
      "Root Mean Squared Error (RMSE): 78.0441\n",
      "R-squared (R²): 0.6929\n"
     ]
    }
   ],
   "source": [
    "features = ['initial_female_count','leaf_area_cm2', 'population_density',\"days_since_introduction\", 'initial_growth_potential']\n",
    "target = 'cumulative_mite_count'\n",
    "\n",
    "X = df[features]\n",
    "y = df[target]\n",
    "\n",
    "# --- 2. Split Data into Training and Testing Sets ---\n",
    "X_train, X_test, y_train, y_test = train_test_split(X, y, test_size=0.2, random_state=42)\n",
    "\n",
    "# --- 3. Create and Train the Linear Regression Model ---\n",
    "model = LinearRegression()\n",
    "model.fit(X_train, y_train)\n",
    "# --- 4. Make Predictions and Evaluate the Model ---\n",
    "y_pred = model.predict(X_test)\n",
    "\n",
    "mae = mean_absolute_error(y_test, y_pred)\n",
    "mse = mean_squared_error(y_test, y_pred)\n",
    "rmse = root_mean_squared_error(y_test, y_pred)\n",
    "r2 = r2_score(y_test, y_pred)\n",
    "\n",
    "# --- 5. Print the Results ---\n",
    "print(\"--- Feature introdused Linear Regression Model Performance ---\")\n",
    "print(f\"Mean Absolute Error (MAE): {mae:.4f}\")\n",
    "print(f\"Mean Squared Error (MSE): {mse:.4f}\")\n",
    "print(f\"Root Mean Squared Error (RMSE): {rmse:.4f}\")\n",
    "print(f\"R-squared (R²): {r2:.4f}\")"
   ]
  },
  {
   "cell_type": "code",
   "execution_count": 8,
   "id": "f5449ca3",
   "metadata": {},
   "outputs": [
    {
     "name": "stdout",
     "output_type": "stream",
     "text": [
      "Feature Importance: {'initial_female_count': 14.776375673804248, 'leaf_area_cm2': 22.421735329717702, 'population_density': 13.347176026638246, 'days_since_introduction': 13.840216651089374, 'initial_growth_potential': -1.3761190860632944}\n"
     ]
    },
    {
     "data": {
      "image/png": "[encoded data removed]",
      "text/plain": [
       "<Figure size 800x500 with 1 Axes>"
      ]
     },
     "metadata": {},
     "output_type": "display_data"
    }
   ],
   "source": [
    "import matplotlib.pyplot as plt\n",
    "import seaborn as sns\n",
    "# Model Coefficients\n",
    "print(\"Feature Importance:\", dict(zip(X.columns, model.coef_)))\n",
    "\n",
    "# Extract Feature Importances from Linear Regression Coefficients\n",
    "feature_importances = pd.DataFrame({\n",
    "    \"Feature\": X.columns,\n",
    "    \"Importance\": model.coef_\n",
    "}).sort_values(by=\"Importance\", ascending=False)\n",
    "\n",
    "# Plot Feature Importance\n",
    "plt.figure(figsize=(8, 5))\n",
    "sns.barplot(x=feature_importances['Importance'], y=feature_importances['Feature'], palette='viridis')\n",
    "plt.xlabel(\"Feature Importance Score\")\n",
    "plt.ylabel(\"Feature\")\n",
    "plt.title(\"Feature Importance using Linear Regression\")\n",
    "plt.show()"
   ]
  },
  {
   "cell_type": "markdown",
   "id": "24f0f862",
   "metadata": {},
   "source": [
    "### Adding plolynominal features"
   ]
  },
  {
   "cell_type": "markdown",
   "id": "13be1098",
   "metadata": {},
   "source": [
    "#### Polynomial Regression for Non-Linear Relationships"
   ]
  },
  {
   "cell_type": "code",
   "execution_count": 9,
   "id": "d2487b51",
   "metadata": {},
   "outputs": [
    {
     "name": "stdout",
     "output_type": "stream",
     "text": [
      "--- Polynominal Feature introdused Linear Regression Model Performance ---\n",
      "Mean Absolute Error (MAE): 35.5555\n",
      "Mean Squared Error (MSE): 3396.0276\n",
      "Root Mean Squared Error (RMSE): 58.2754\n",
      "R-squared (R²): 0.8288\n"
     ]
    }
   ],
   "source": [
    "from sklearn.preprocessing import PolynomialFeatures\n",
    "\n",
    "features = ['initial_female_count','leaf_area_cm2', 'population_density',\"days_since_introduction\", 'initial_growth_potential']\n",
    "target = 'cumulative_mite_count'\n",
    "\n",
    "X = df[features]\n",
    "y = df[target]\n",
    "\n",
    "poly = PolynomialFeatures(degree=3, include_bias=False)\n",
    "X_poly = poly.fit_transform(X)\n",
    "\n",
    "# --- 2. Split Data into Training and Testing Sets ---\n",
    "X_train, X_test, y_train, y_test = train_test_split(X_poly, y, test_size=0.2, random_state=42)\n",
    "\n",
    "# --- 3. Create and Train the Linear Regression Model ---\n",
    "model = LinearRegression()\n",
    "model.fit(X_train, y_train)\n",
    "# --- 4. Make Predictions and Evaluate the Model ---\n",
    "y_pred = model.predict(X_test)\n",
    "\n",
    "mae = mean_absolute_error(y_test, y_pred)\n",
    "mse = mean_squared_error(y_test, y_pred)\n",
    "rmse = root_mean_squared_error(y_test, y_pred)\n",
    "r2 = r2_score(y_test, y_pred)\n",
    "\n",
    "# --- 5. Print the Results ---\n",
    "print(\"--- Polynominal Feature introdused Linear Regression Model Performance ---\")\n",
    "print(f\"Mean Absolute Error (MAE): {mae:.4f}\")\n",
    "print(f\"Mean Squared Error (MSE): {mse:.4f}\")\n",
    "print(f\"Root Mean Squared Error (RMSE): {rmse:.4f}\")\n",
    "print(f\"R-squared (R²): {r2:.4f}\")"
   ]
  },
  {
   "cell_type": "markdown",
   "id": "49f2fe56",
   "metadata": {},
   "source": [
    "using StandardScaler"
   ]
  },
  {
   "cell_type": "code",
   "execution_count": 10,
   "id": "fa613d2b",
   "metadata": {},
   "outputs": [
    {
     "name": "stdout",
     "output_type": "stream",
     "text": [
      "--- Polynominal Feature introdused Linear Regression Model Performance ---\n",
      "Mean Absolute Error (MAE): 35.1889\n",
      "Mean Squared Error (MSE): 3361.5287\n",
      "Root Mean Squared Error (RMSE): 57.9787\n",
      "R-squared (R²): 0.8305\n"
     ]
    }
   ],
   "source": [
    "from sklearn.preprocessing import PolynomialFeatures\n",
    "from sklearn.preprocessing import StandardScaler\n",
    "\n",
    "features = ['initial_female_count','leaf_area_cm2', 'population_density',\"days_since_introduction\", 'initial_growth_potential']\n",
    "target = 'cumulative_mite_count'\n",
    "\n",
    "X = df[features]\n",
    "y = df[target]\n",
    "\n",
    "poly = PolynomialFeatures(degree=3, include_bias=False)\n",
    "X_poly = poly.fit_transform(X)\n",
    "\n",
    "# --- 2. Split Data into Training and Testing Sets ---\n",
    "X_train, X_test, y_train, y_test = train_test_split(X_poly, y, test_size=0.2, random_state=42)\n",
    "\n",
    "# Create a scaler and fit it ONLY on the training data\n",
    "scaler = StandardScaler()\n",
    "X_train_scaled = scaler.fit_transform(X_train)\n",
    "\n",
    "# Transform the test data using the FITTED scaler\n",
    "X_test_scaled = scaler.transform(X_test)\n",
    "\n",
    "# --- 3. Create and Train the Linear Regression Model ---\n",
    "model = LinearRegression()\n",
    "model.fit(X_train_scaled, y_train)\n",
    "# --- 4. Make Predictions and Evaluate the Model ---\n",
    "y_pred = model.predict(X_test_scaled)\n",
    "\n",
    "mae = mean_absolute_error(y_test, y_pred)\n",
    "mse = mean_squared_error(y_test, y_pred)\n",
    "rmse = root_mean_squared_error(y_test, y_pred)\n",
    "r2 = r2_score(y_test, y_pred)\n",
    "\n",
    "# --- 5. Print the Results ---\n",
    "print(\"--- Polynominal Feature introdused Linear Regression Model Performance ---\")\n",
    "print(f\"Mean Absolute Error (MAE): {mae:.4f}\")\n",
    "print(f\"Mean Squared Error (MSE): {mse:.4f}\")\n",
    "print(f\"Root Mean Squared Error (RMSE): {rmse:.4f}\")\n",
    "print(f\"R-squared (R²): {r2:.4f}\")"
   ]
  },
  {
   "cell_type": "markdown",
   "id": "0d5e7d50",
   "metadata": {},
   "source": [
    "#### Polynomial Regression with Logarithmic Transformation"
   ]
  },
  {
   "cell_type": "code",
   "execution_count": 11,
   "id": "f77200fe",
   "metadata": {},
   "outputs": [
    {
     "name": "stdout",
     "output_type": "stream",
     "text": [
      "--- Polynominal Feature introdused Linear Regression Model Performance  log transformed---\n",
      "Mean Absolute Error (MAE): 0.3367\n",
      "Mean Squared Error (MSE): 0.3730\n",
      "Root Mean Squared Error (RMSE): 0.6107\n",
      "R-squared (R²): 0.8393\n",
      "\n",
      "--- Model Performance on the ORIGINAL Scale (Interpretable) ---\n",
      "Mean Absolute Error (MAE): 7442.3472 mites\n",
      "Mean Squared Error (MSE): 41611911890.8336\n",
      "Root Mean Squared Error (RMSE): 203989.9799 mites\n",
      "R-squared (R²): -2097725.9544\n"
     ]
    }
   ],
   "source": [
    "from sklearn.preprocessing import PolynomialFeatures\n",
    "from sklearn.preprocessing import StandardScaler\n",
    "import numpy as np\n",
    "\n",
    "df_transformed = df.copy()\n",
    "\n",
    "# List of skewed features to transform\n",
    "skewed_features = ['initial_growth_potential','days_since_introduction']\n",
    "\n",
    "# Apply log transformation\n",
    "for feat in skewed_features:\n",
    "    df_transformed[feat] = np.log1p(df_transformed[feat])\n",
    "\n",
    "features = ['initial_female_count','leaf_area_cm2', 'population_density',\"days_since_introduction\", 'initial_growth_potential']\n",
    "target = 'cumulative_mite_count'\n",
    "\n",
    "X = df_transformed[features]\n",
    "y = np.log1p(df['cumulative_mite_count'])\n",
    "\n",
    "poly = PolynomialFeatures(degree=3, include_bias=False)\n",
    "X_poly = poly.fit_transform(X)\n",
    "\n",
    "# --- 2. Split Data into Training and Testing Sets ---\n",
    "X_train, X_test, y_train, y_test = train_test_split(X_poly, y, test_size=0.2, random_state=42)\n",
    "\n",
    "# Create a scaler and fit it ONLY on the training data\n",
    "scaler = StandardScaler()\n",
    "X_train_scaled = scaler.fit_transform(X_train)\n",
    "\n",
    "# Transform the test data using the FITTED scaler\n",
    "X_test_scaled = scaler.transform(X_test)\n",
    "\n",
    "# --- 3. Create and Train the Linear Regression Model ---\n",
    "model = LinearRegression()\n",
    "model.fit(X_train_scaled, y_train)\n",
    "# --- 4. Make Predictions and Evaluate the Model ---\n",
    "y_pred = model.predict(X_test_scaled)\n",
    "\n",
    "mae = mean_absolute_error(y_test, y_pred)\n",
    "mse = mean_squared_error(y_test, y_pred)\n",
    "rmse = root_mean_squared_error(y_test, y_pred)\n",
    "r2 = r2_score(y_test, y_pred)\n",
    "\n",
    "# --- 5. Print the Results ---\n",
    "print(\"--- Polynominal Feature introdused Linear Regression Model Performance  log transformed---\")\n",
    "print(f\"Mean Absolute Error (MAE): {mae:.4f}\")\n",
    "print(f\"Mean Squared Error (MSE): {mse:.4f}\")\n",
    "print(f\"Root Mean Squared Error (RMSE): {rmse:.4f}\")\n",
    "print(f\"R-squared (R²): {r2:.4f}\")\n",
    "\n",
    "# We use np.expm1 as it is the inverse of np.log1p\n",
    "y_test_original = np.expm1(y_test)\n",
    "y_pred_original = np.expm1(y_pred)\n",
    "\n",
    "print(\"\\n--- Model Performance on the ORIGINAL Scale (Interpretable) ---\")\n",
    "mae1 = mean_absolute_error(y_test_original, y_pred_original)\n",
    "mse1 = mean_squared_error(y_test_original, y_pred_original)\n",
    "rmse1 = root_mean_squared_error(y_test_original, y_pred_original)\n",
    "r21 = r2_score(y_test_original, y_pred_original)\n",
    "print(f\"Mean Absolute Error (MAE): {mae1:.4f} mites\")\n",
    "print(f\"Mean Squared Error (MSE): {mse1:.4f}\")\n",
    "print(f\"Root Mean Squared Error (RMSE): {rmse1:.4f} mites\")\n",
    "print(f\"R-squared (R²): {r21:.4f}\")"
   ]
  },
  {
   "cell_type": "markdown",
   "id": "26b40f7f",
   "metadata": {},
   "source": [
    "it shows drasting differnt in orginal matrics so let's investicate outliers"
   ]
  },
  {
   "cell_type": "code",
   "execution_count": 12,
   "id": "a80d13fc",
   "metadata": {},
   "outputs": [
    {
     "data": {
      "image/png": "[encoded data removed]",
      "text/plain": [
       "<Figure size 1000x600 with 1 Axes>"
      ]
     },
     "metadata": {},
     "output_type": "display_data"
    }
   ],
   "source": [
    "import matplotlib.pyplot as plt\n",
    "import seaborn as sns\n",
    "\n",
    "# Make sure you have these from your previous script:\n",
    "# y_test_original\n",
    "# y_pred_original\n",
    "\n",
    "plt.figure(figsize=(10, 6))\n",
    "sns.scatterplot(x=y_test_original, y=y_pred_original)\n",
    "plt.plot([y_test_original.min(), y_test_original.max()], [y_test_original.min(), y_test_original.max()], 'r--', lw=2, label='Perfect Prediction')\n",
    "plt.xlabel(\"True Values (Original Scale)\")\n",
    "plt.ylabel(\"Predictions (Original Scale)\")\n",
    "plt.title(\"True vs. Predicted Values on Original Scale\")\n",
    "plt.legend()\n",
    "plt.show()"
   ]
  },
  {
   "cell_type": "markdown",
   "id": "5510d278",
   "metadata": {},
   "source": [
    "one single pradiction make bigg error while transform the te result to original scale it refleccts in a big amount so let's remove it"
   ]
  },
  {
   "cell_type": "code",
   "execution_count": 13,
   "id": "d57ff914",
   "metadata": {},
   "outputs": [
    {
     "data": {
      "application/vnd.microsoft.datawrangler.viewer.v0+json": {
       "columns": [
        {
         "name": "index",
         "rawType": "int64",
         "type": "integer"
        },
        {
         "name": "true_value",
         "rawType": "float64",
         "type": "float"
        },
        {
         "name": "predicted_value",
         "rawType": "float64",
         "type": "float"
        },
        {
         "name": "absolute_error",
         "rawType": "float64",
         "type": "float"
        }
       ],
       "ref": "1fbf149c-b307-40f1-b8b0-cfce4d6f4abf",
       "rows": [
        [
         "2092",
         "294.99999999999994",
         "5616506.060318642",
         "5616211.060318642"
        ],
        [
         "1702",
         "635.9999999999999",
         "94.45919732488912",
         "541.5408026751107"
        ],
        [
         "2383",
         "516.9999999999999",
         "114.96697157136614",
         "402.03302842863377"
        ],
        [
         "1688",
         "431.99999999999994",
         "57.04676727163575",
         "374.9532327283642"
        ],
        [
         "1697",
         "503.00000000000006",
         "160.34600500084554",
         "342.6539949991545"
        ],
        [
         "1694",
         "484.99999999999994",
         "173.67082350981033",
         "311.32917649018964"
        ],
        [
         "2810",
         "424.00000000000017",
         "180.10881100991915",
         "243.89118899008102"
        ],
        [
         "1592",
         "180.00000000000006",
         "385.28517851801087",
         "205.2851785180108"
        ],
        [
         "2258",
         "222.99999999999994",
         "424.6229544416122",
         "201.62295444161225"
        ],
        [
         "3591",
         "309.99999999999994",
         "498.09675492020386",
         "188.09675492020392"
        ],
        [
         "2801",
         "384.00000000000017",
         "202.3337160231337",
         "181.66628397686648"
        ],
        [
         "862",
         "469.00000000000006",
         "290.1289619769361",
         "178.87103802306393"
        ],
        [
         "2166",
         "515.0",
         "336.642734082357",
         "178.35726591764302"
        ],
        [
         "2257",
         "219.00000000000009",
         "392.2959752206747",
         "173.2959752206746"
        ],
        [
         "864",
         "489.9999999999999",
         "316.9614573815857",
         "173.03854261841417"
        ],
        [
         "2254",
         "210.00000000000003",
         "375.653232205226",
         "165.65323220522598"
        ],
        [
         "3359",
         "333.0000000000001",
         "498.09675492020386",
         "165.09675492020375"
        ],
        [
         "2259",
         "222.99999999999994",
         "386.0852819420759",
         "163.08528194207594"
        ],
        [
         "1128",
         "431.00000000000017",
         "269.206613658623",
         "161.7933863413772"
        ],
        [
         "1106",
         "438.99999999999983",
         "283.3944679930137",
         "155.60553200698615"
        ],
        [
         "3589",
         "309.00000000000006",
         "460.5450681204765",
         "151.54506812047646"
        ],
        [
         "3360",
         "333.0000000000001",
         "481.10231985004646",
         "148.10231985004634"
        ],
        [
         "2256",
         "215.00000000000006",
         "361.4530013292636",
         "146.45300132926354"
        ],
        [
         "3588",
         "305.0",
         "448.54161105629805",
         "143.54161105629805"
        ],
        [
         "1588",
         "172.00000000000006",
         "314.0168549210663",
         "142.01685492106623"
        ],
        [
         "2044",
         "417.9999999999999",
         "276.654728703861",
         "141.3452712961389"
        ],
        [
         "1584",
         "166.99999999999997",
         "303.1618228454375",
         "136.1618228454375"
        ],
        [
         "3473",
         "328.0",
         "460.5450681204765",
         "132.54506812047651"
        ],
        [
         "1587",
         "170.99999999999994",
         "298.3192960520034",
         "127.31929605200344"
        ],
        [
         "2358",
         "390.0",
         "263.36919815687617",
         "126.63080184312383"
        ],
        [
         "3472",
         "325.0",
         "448.54161105629805",
         "123.54161105629805"
        ],
        [
         "2045",
         "426.9999999999999",
         "303.75405105762144",
         "123.24594894237845"
        ],
        [
         "1878",
         "194.0",
         "314.0168549210663",
         "120.01685492106628"
        ],
        [
         "3356",
         "328.99999999999994",
         "448.54161105629805",
         "119.54161105629811"
        ],
        [
         "1228",
         "406.9999999999999",
         "290.1289706532554",
         "116.87102934674448"
        ],
        [
         "1032",
         "419.9999999999999",
         "303.1618228454375",
         "116.8381771545624"
        ],
        [
         "2312",
         "431.99999999999994",
         "315.22932871192717",
         "116.77067128807278"
        ],
        [
         "2222",
         "434.99999999999994",
         "318.72007238429984",
         "116.2799276157001"
        ],
        [
         "889",
         "398.9999999999999",
         "283.3944679930137",
         "115.60553200698621"
        ],
        [
         "1826",
         "71.99999999999999",
         "186.9731007377306",
         "114.9731007377306"
        ],
        [
         "1582",
         "163.99999999999994",
         "277.8348845319334",
         "113.83488453193348"
        ],
        [
         "1057",
         "429.99999999999983",
         "316.9614573815857",
         "113.03854261841411"
        ],
        [
         "2372",
         "335.99999999999994",
         "223.19116924731745",
         "112.8088307526825"
        ],
        [
         "816",
         "378.0",
         "269.206613658623",
         "108.79338634137702"
        ],
        [
         "2345",
         "176.99999999999997",
         "70.81298197285466",
         "106.18701802714531"
        ],
        [
         "2086",
         "274.9999999999999",
         "380.9045343838502",
         "105.90453438385032"
        ],
        [
         "2337",
         "87.99999999999999",
         "188.6620043370034",
         "100.66200433700341"
        ],
        [
         "3624",
         "517.9999999999999",
         "417.4060088709681",
         "100.59399112903179"
        ],
        [
         "817",
         "383.0",
         "283.3944679930137",
         "99.60553200698632"
        ],
        [
         "3263",
         "314.0",
         "214.60354359704098",
         "99.39645640295902"
        ]
       ],
       "shape": {
        "columns": 3,
        "rows": 758
       }
      },
      "text/html": [
       "<div>\n",
       "<style scoped>\n",
       "    .dataframe tbody tr th:only-of-type {\n",
       "        vertical-align: middle;\n",
       "    }\n",
       "\n",
       "    .dataframe tbody tr th {\n",
       "        vertical-align: top;\n",
       "    }\n",
       "\n",
       "    .dataframe thead th {\n",
       "        text-align: right;\n",
       "    }\n",
       "</style>\n",
       "<table border=\"1\" class=\"dataframe\">\n",
       "  <thead>\n",
       "    <tr style=\"text-align: right;\">\n",
       "      <th></th>\n",
       "      <th>true_value</th>\n",
       "      <th>predicted_value</th>\n",
       "      <th>absolute_error</th>\n",
       "    </tr>\n",
       "  </thead>\n",
       "  <tbody>\n",
       "    <tr>\n",
       "      <th>2092</th>\n",
       "      <td>295.0</td>\n",
       "      <td>5.616506e+06</td>\n",
       "      <td>5.616211e+06</td>\n",
       "    </tr>\n",
       "    <tr>\n",
       "      <th>1702</th>\n",
       "      <td>636.0</td>\n",
       "      <td>9.445920e+01</td>\n",
       "      <td>5.415408e+02</td>\n",
       "    </tr>\n",
       "    <tr>\n",
       "      <th>2383</th>\n",
       "      <td>517.0</td>\n",
       "      <td>1.149670e+02</td>\n",
       "      <td>4.020330e+02</td>\n",
       "    </tr>\n",
       "    <tr>\n",
       "      <th>1688</th>\n",
       "      <td>432.0</td>\n",
       "      <td>5.704677e+01</td>\n",
       "      <td>3.749532e+02</td>\n",
       "    </tr>\n",
       "    <tr>\n",
       "      <th>1697</th>\n",
       "      <td>503.0</td>\n",
       "      <td>1.603460e+02</td>\n",
       "      <td>3.426540e+02</td>\n",
       "    </tr>\n",
       "    <tr>\n",
       "      <th>...</th>\n",
       "      <td>...</td>\n",
       "      <td>...</td>\n",
       "      <td>...</td>\n",
       "    </tr>\n",
       "    <tr>\n",
       "      <th>1322</th>\n",
       "      <td>11.0</td>\n",
       "      <td>1.087697e+01</td>\n",
       "      <td>1.230255e-01</td>\n",
       "    </tr>\n",
       "    <tr>\n",
       "      <th>2732</th>\n",
       "      <td>40.0</td>\n",
       "      <td>3.990984e+01</td>\n",
       "      <td>9.016417e-02</td>\n",
       "    </tr>\n",
       "    <tr>\n",
       "      <th>1779</th>\n",
       "      <td>48.0</td>\n",
       "      <td>4.804871e+01</td>\n",
       "      <td>4.871397e-02</td>\n",
       "    </tr>\n",
       "    <tr>\n",
       "      <th>1550</th>\n",
       "      <td>187.0</td>\n",
       "      <td>1.869731e+02</td>\n",
       "      <td>2.689926e-02</td>\n",
       "    </tr>\n",
       "    <tr>\n",
       "      <th>3538</th>\n",
       "      <td>202.0</td>\n",
       "      <td>2.019864e+02</td>\n",
       "      <td>1.362428e-02</td>\n",
       "    </tr>\n",
       "  </tbody>\n",
       "</table>\n",
       "<p>758 rows × 3 columns</p>\n",
       "</div>"
      ],
      "text/plain": [
       "      true_value  predicted_value  absolute_error\n",
       "2092       295.0     5.616506e+06    5.616211e+06\n",
       "1702       636.0     9.445920e+01    5.415408e+02\n",
       "2383       517.0     1.149670e+02    4.020330e+02\n",
       "1688       432.0     5.704677e+01    3.749532e+02\n",
       "1697       503.0     1.603460e+02    3.426540e+02\n",
       "...          ...              ...             ...\n",
       "1322        11.0     1.087697e+01    1.230255e-01\n",
       "2732        40.0     3.990984e+01    9.016417e-02\n",
       "1779        48.0     4.804871e+01    4.871397e-02\n",
       "1550       187.0     1.869731e+02    2.689926e-02\n",
       "3538       202.0     2.019864e+02    1.362428e-02\n",
       "\n",
       "[758 rows x 3 columns]"
      ]
     },
     "execution_count": 13,
     "metadata": {},
     "output_type": "execute_result"
    }
   ],
   "source": [
    "# Create a DataFrame to easily see the worst predictions\n",
    "results_df = pd.DataFrame({\n",
    "    'true_value': y_test_original,\n",
    "    'predicted_value': y_pred_original\n",
    "})\n",
    "results_df['absolute_error'] = abs(results_df['true_value'] - results_df['predicted_value'])\n",
    "\n",
    "# Sort to see the 10 worst predictions\n",
    "worst_predictions = results_df.sort_values(by='absolute_error', ascending=False)\n",
    "\n",
    "worst_predictions"
   ]
  },
  {
   "cell_type": "code",
   "execution_count": 14,
   "id": "9bf9fe54",
   "metadata": {},
   "outputs": [
    {
     "name": "stdout",
     "output_type": "stream",
     "text": [
      "\n",
      "--- Re-evaluating the model after removing the single outlier ---\n",
      "Original test set size: 758\n",
      "New test set size: 757\n",
      "\n",
      "--- Performance Comparison ---\n",
      "                  BEFORE removing outlier   |   AFTER removing outlier\n",
      "-------------------------------------------------------------------------\n",
      "Mean Absolute Error:            7442.3472      |                33.1415\n",
      "Mean Squared Error:     41611911890.8336      |              3354.3017\n",
      "Root Mean Squared Error:      203989.9799  |                57.9163\n",
      "R-squared (R²):         -2097725.9544      |                 0.8309\n"
     ]
    }
   ],
   "source": [
    "# --- 6. Remove the Identified Outlier and Re-Evaluate ---\n",
    "\n",
    "print(\"\\n--- Re-evaluating the model after removing the single outlier ---\")\n",
    "\n",
    "# 1. Identify the index of the outlier from your previous analysis\n",
    "outlier_index = 2092\n",
    "\n",
    "# 2. Create new test sets by removing the outlier\n",
    "y1_test_no_outlier = y_test.drop(outlier_index)\n",
    "\n",
    "# To remove the outlier from the X_test array, we need its positional index\n",
    "outlier_position = y_test.index.get_loc(outlier_index)\n",
    "X_test_scaled_no_outlier = np.delete(X_test_scaled, outlier_position, axis=0)\n",
    "\n",
    "print(f\"Original test set size: {len(y_test)}\")\n",
    "print(f\"New test set size: {len(y1_test_no_outlier)}\")\n",
    "\n",
    "\n",
    "# 3. Make new predictions on the cleaned test set\n",
    "y1_pred_log_no_outlier = model.predict(X_test_scaled_no_outlier)\n",
    "\n",
    "\n",
    "# 4. Transform the new predictions and labels back to the original scale\n",
    "y1_pred_original_no_outlier = np.expm1(y1_pred_log_no_outlier)\n",
    "y1_test_original_no_outlier = np.expm1(y1_test_no_outlier)\n",
    "\n",
    "\n",
    "# 5. Recalculate and print the new metrics\n",
    "mae_new = mean_absolute_error(y1_test_original_no_outlier, y1_pred_original_no_outlier)\n",
    "mse_new = mean_squared_error(y1_test_original_no_outlier, y1_pred_original_no_outlier)\n",
    "rmse_new = root_mean_squared_error(y1_test_original_no_outlier, y1_pred_original_no_outlier)\n",
    "r2_new = r2_score(y1_test_original_no_outlier, y1_pred_original_no_outlier)\n",
    "# --- 7. Final Comparison ---\n",
    "\n",
    "print(\"\\n--- Performance Comparison ---\")\n",
    "print(\"                  BEFORE removing outlier   |   AFTER removing outlier\")\n",
    "print(\"-------------------------------------------------------------------------\")\n",
    "print(f\"Mean Absolute Error: {mae1:20.4f}      |   {mae_new:20.4f}\")\n",
    "print(f\"Mean Squared Error: {mse1:20.4f}      |   {mse_new:20.4f}\")\n",
    "print(f\"Root Mean Squared Error: {rmse1:16.4f}  |   {rmse_new:20.4f}\")\n",
    "print(f\"R-squared (R²): {r21:21.4f}      |   {r2_new:20.4f}\")"
   ]
  },
  {
   "cell_type": "code",
   "execution_count": 15,
   "id": "090dcd89",
   "metadata": {},
   "outputs": [
    {
     "data": {
      "image/png": "[encoded data removed]",
      "text/plain": [
       "<Figure size 1000x600 with 1 Axes>"
      ]
     },
     "metadata": {},
     "output_type": "display_data"
    },
    {
     "name": "stdout",
     "output_type": "stream",
     "text": [
      "Note: Original features have been transformed into polynomial features.\n",
      "Original features were: ['initial_female_count', 'leaf_area_cm2', 'population_density', 'days_since_introduction', 'initial_growth_potential']\n"
     ]
    }
   ],
   "source": [
    "import matplotlib.pyplot as plt\n",
    "import seaborn as sns\n",
    "\n",
    "# For polynomial models, we can't directly map coefficients to original features\n",
    "# because there are interactions and higher powers\n",
    "# Instead, we can show the top coefficients by magnitude\n",
    "\n",
    "# Get coefficients and their absolute values\n",
    "coeffs = model.coef_\n",
    "abs_coeffs = np.abs(coeffs)\n",
    "\n",
    "# Get indices of top N coefficients by magnitude\n",
    "top_n = min(20, len(coeffs))  # Show at most 20 features\n",
    "top_indices = np.argsort(abs_coeffs)[-top_n:]\n",
    "\n",
    "# Create dataframe for plotting\n",
    "coef_df = pd.DataFrame({\n",
    "    'Feature Index': top_indices,\n",
    "    'Coefficient': coeffs[top_indices]\n",
    "}).sort_values('Coefficient', ascending=False)\n",
    "\n",
    "# Plot top coefficients\n",
    "plt.figure(figsize=(10, 6))\n",
    "sns.barplot(x='Coefficient', y='Feature Index', data=coef_df, palette='viridis')\n",
    "plt.title('Top Polynomial Feature Coefficients by Magnitude')\n",
    "plt.xlabel('Coefficient Value')\n",
    "plt.ylabel('Feature Index')\n",
    "plt.tight_layout()\n",
    "plt.show()\n",
    "\n",
    "# Print original feature importance (for reference only)\n",
    "print(\"Note: Original features have been transformed into polynomial features.\")\n",
    "print(\"Original features were:\", features)"
   ]
  },
  {
   "cell_type": "code",
   "execution_count": 16,
   "id": "aaa8ead3",
   "metadata": {},
   "outputs": [
    {
     "name": "stdout",
     "output_type": "stream",
     "text": [
      "--- Top 10 Most Impactful Features (from Coefficients) ---\n",
      "                                              Feature   Coefficient  \\\n",
      "7             initial_female_count population_density  3.439517e+08   \n",
      "39                 leaf_area_cm2 population_density^2 -3.439517e+08   \n",
      "0                                initial_female_count -2.936193e+08   \n",
      "11                   leaf_area_cm2 population_density  2.936188e+08   \n",
      "9       initial_female_count initial_growth_potential  2.281521e+08   \n",
      "41  leaf_area_cm2 population_density initial_growt... -2.281508e+08   \n",
      "8        initial_female_count days_since_introduction  1.538923e+08   \n",
      "40  leaf_area_cm2 population_density days_since_in... -1.538921e+08   \n",
      "5                              initial_female_count^2 -1.325569e+08   \n",
      "26  initial_female_count leaf_area_cm2 population_...  1.325567e+08   \n",
      "\n",
      "    Abs_Coefficient  \n",
      "7      3.439517e+08  \n",
      "39     3.439517e+08  \n",
      "0      2.936193e+08  \n",
      "11     2.936188e+08  \n",
      "9      2.281521e+08  \n",
      "41     2.281508e+08  \n",
      "8      1.538923e+08  \n",
      "40     1.538921e+08  \n",
      "5      1.325569e+08  \n",
      "26     1.325567e+08  \n"
     ]
    }
   ],
   "source": [
    "# Assuming 'poly' is your fitted PolynomialFeatures object and 'model' is your trained LinearRegression model\n",
    "\n",
    "# Get the feature names generated by PolynomialFeatures\n",
    "poly_feature_names = poly.get_feature_names_out(features)\n",
    "\n",
    "# Create a DataFrame of the coefficients\n",
    "df_coeffs = pd.DataFrame({\n",
    "    'Feature': poly_feature_names,\n",
    "    'Coefficient': model.coef_\n",
    "})\n",
    "\n",
    "# Sort the coefficients by their absolute value to see the most impactful ones\n",
    "df_coeffs['Abs_Coefficient'] = df_coeffs['Coefficient'].abs()\n",
    "df_coeffs = df_coeffs.sort_values(by='Abs_Coefficient', ascending=False)\n",
    "\n",
    "print(\"--- Top 10 Most Impactful Features (from Coefficients) ---\")\n",
    "print(df_coeffs.head(10))"
   ]
  },
  {
   "cell_type": "code",
   "execution_count": 17,
   "id": "9d48da05",
   "metadata": {},
   "outputs": [
    {
     "name": "stderr",
     "output_type": "stream",
     "text": [
      "Using 3028 background data samples could cause slower run times. Consider using shap.sample(data, K) or shap.kmeans(data, K) to summarize the background as K samples.\n",
      "100%|██████████| 758/758 [31:46<00:00,  2.52s/it]\n"
     ]
    },
    {
     "name": "stdout",
     "output_type": "stream",
     "text": [
      "\n",
      "--- SHAP Summary Plot ---\n"
     ]
    },
    {
     "data": {
      "image/png": "[encoded data removed]",
      "text/plain": [
       "<Figure size 800x950 with 2 Axes>"
      ]
     },
     "metadata": {},
     "output_type": "display_data"
    }
   ],
   "source": [
    "import shap\n",
    "\n",
    "# --- Prerequisite: Your Final Model ---\n",
    "# Ensure you have your final trained model ('model')\n",
    "# and your scaled training and testing data (X_train_scaled, X_test_scaled)\n",
    "# Note: SHAP works best on scaled data for this type of explainer.\n",
    "\n",
    "# 1. Create a SHAP Explainer\n",
    "# We use KernelExplainer, which is model-agnostic. We give it the model's predict function\n",
    "# and a summary of the training data (a \"background\" dataset) to learn from.\n",
    "explainer = shap.KernelExplainer(model.predict, X_train_scaled)\n",
    "\n",
    "# 2. Calculate SHAP values for the test set (this can take a moment)\n",
    "shap_values = explainer.shap_values(X_test_scaled)\n",
    "\n",
    "# 3. Create the Summary Plot\n",
    "# This is the most powerful SHAP visualization.\n",
    "print(\"\\n--- SHAP Summary Plot ---\")\n",
    "shap.summary_plot(shap_values, X_test_scaled, feature_names=poly_feature_names)"
   ]
  },
  {
   "cell_type": "code",
   "execution_count": 18,
   "id": "fdee8288",
   "metadata": {},
   "outputs": [
    {
     "name": "stdout",
     "output_type": "stream",
     "text": [
      "Train RMSE: 0.2284, Test RMSE: 0.3730\n",
      "Train R²: 0.9045, Test R²: 0.8393\n"
     ]
    }
   ],
   "source": [
    "from sklearn.metrics import mean_squared_error\n",
    "y_pred = model.predict(X_test_scaled)\n",
    "y_pred_train = model.predict(X_train_scaled)\n",
    "rmse_train = mean_squared_error(y_train, y_pred_train)\n",
    "rmse_test = mean_squared_error(y_test, y_pred)\n",
    "\n",
    "r2_score_test = r2_score(y_test, y_pred)\n",
    "r2_score_train = r2_score(y_train, y_pred_train)\n",
    "\n",
    "print(f\"Train RMSE: {rmse_train:.4f}, Test RMSE: {rmse_test:.4f}\")\n",
    "print(f\"Train R²: {r2_score_train:.4f}, Test R²: {r2_score_test:.4f}\")"
   ]
  }
 ],
 "metadata": {
  "kernelspec": {
   "display_name": ".venv",
   "language": "python",
   "name": "python3"
  },
  "language_info": {
   "codemirror_mode": {
    "name": "ipython",
    "version": 3
   },
   "file_extension": ".py",
   "mimetype": "text/x-python",
   "name": "python",
   "nbconvert_exporter": "python",
   "pygments_lexer": "ipython3",
   "version": "3.12.0"
  }
 },
 "nbformat": 4,
 "nbformat_minor": 5
}
